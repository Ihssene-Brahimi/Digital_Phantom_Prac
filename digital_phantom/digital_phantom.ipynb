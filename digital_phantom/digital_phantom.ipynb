{
  "cells": [
    {
      "cell_type": "code",
      "source": [
        "import zipfile\n",
        "import sys\n",
        "\n",
        "# Extract ZIP file\n",
        "with zipfile.ZipFile('/content/digital_phantom_package.zip', 'r') as zip_ref:\n",
        "    zip_ref.extractall('/content/digital_phantom_package')\n",
        "\n",
        "# Add extracted package location to Python path\n",
        "sys.path.append('/content/digital_phantom_package')"
      ],
      "metadata": {
        "id": "rQ9fnZEn55jl"
      },
      "execution_count": null,
      "outputs": []
    },
    {
      "cell_type": "code",
      "source": [
        "%cd /content/digital_phantom_package/digital_phantom_package"
      ],
      "metadata": {
        "colab": {
          "base_uri": "https://localhost:8080/"
        },
        "id": "4eaISq4T8s4e",
        "outputId": "2d40b89c-ddbf-4852-c98b-4b57a7aab787"
      },
      "execution_count": null,
      "outputs": [
        {
          "output_type": "stream",
          "name": "stdout",
          "text": [
            "/content/digital_phantom_package/digital_phantom_package\n"
          ]
        }
      ]
    },
    {
      "cell_type": "code",
      "source": [
        "!pip install -r requirements.txt"
      ],
      "metadata": {
        "colab": {
          "base_uri": "https://localhost:8080/"
        },
        "id": "NSLdeF5S-oaN",
        "outputId": "28f1bb7e-1d5e-4528-90bd-b40e87173474"
      },
      "execution_count": null,
      "outputs": [
        {
          "output_type": "stream",
          "name": "stdout",
          "text": [
            "Collecting dicom2nifti==2.4.8 (from -r requirements.txt (line 1))\n",
            "  Downloading dicom2nifti-2.4.8-py3-none-any.whl (43 kB)\n",
            "\u001b[?25l     \u001b[90m━━━━━━━━━━━━━━━━━━━━━━━━━━━━━━━━━━━━━━━━\u001b[0m \u001b[32m0.0/43.6 kB\u001b[0m \u001b[31m?\u001b[0m eta \u001b[36m-:--:--\u001b[0m\r\u001b[2K     \u001b[90m━━━━━━━━━━━━━━━━━━━━━━━━━━━━━━━━━━━━━━━━\u001b[0m \u001b[32m43.6/43.6 kB\u001b[0m \u001b[31m1.7 MB/s\u001b[0m eta \u001b[36m0:00:00\u001b[0m\n",
            "\u001b[?25hRequirement already satisfied: nibabel==4.0.2 in /usr/local/lib/python3.10/dist-packages (from -r requirements.txt (line 2)) (4.0.2)\n",
            "Collecting nilearn==0.10.1 (from -r requirements.txt (line 3))\n",
            "  Downloading nilearn-0.10.1-py3-none-any.whl (10.3 MB)\n",
            "\u001b[2K     \u001b[90m━━━━━━━━━━━━━━━━━━━━━━━━━━━━━━━━━━━━━━━━\u001b[0m \u001b[32m10.3/10.3 MB\u001b[0m \u001b[31m47.9 MB/s\u001b[0m eta \u001b[36m0:00:00\u001b[0m\n",
            "\u001b[?25hCollecting pydicom==2.4.2 (from -r requirements.txt (line 4))\n",
            "  Downloading pydicom-2.4.2-py3-none-any.whl (1.8 MB)\n",
            "\u001b[2K     \u001b[90m━━━━━━━━━━━━━━━━━━━━━━━━━━━━━━━━━━━━━━━━\u001b[0m \u001b[32m1.8/1.8 MB\u001b[0m \u001b[31m72.6 MB/s\u001b[0m eta \u001b[36m0:00:00\u001b[0m\n",
            "\u001b[?25hCollecting pyradiomics==3.0.1 (from -r requirements.txt (line 5))\n",
            "  Downloading pyradiomics-3.0.1.tar.gz (34.5 MB)\n",
            "\u001b[2K     \u001b[90m━━━━━━━━━━━━━━━━━━━━━━━━━━━━━━━━━━━━━━━━\u001b[0m \u001b[32m34.5/34.5 MB\u001b[0m \u001b[31m38.1 MB/s\u001b[0m eta \u001b[36m0:00:00\u001b[0m\n",
            "\u001b[?25h  Preparing metadata (setup.py) ... \u001b[?25l\u001b[?25hdone\n",
            "Requirement already satisfied: numpy in /usr/local/lib/python3.10/dist-packages (from dicom2nifti==2.4.8->-r requirements.txt (line 1)) (1.22.4)\n",
            "Requirement already satisfied: scipy in /usr/local/lib/python3.10/dist-packages (from dicom2nifti==2.4.8->-r requirements.txt (line 1)) (1.10.1)\n",
            "Collecting python-gdcm (from dicom2nifti==2.4.8->-r requirements.txt (line 1))\n",
            "  Downloading python_gdcm-3.0.22-cp310-cp310-manylinux_2_17_x86_64.manylinux2014_x86_64.whl (13.0 MB)\n",
            "\u001b[2K     \u001b[90m━━━━━━━━━━━━━━━━━━━━━━━━━━━━━━━━━━━━━━━━\u001b[0m \u001b[32m13.0/13.0 MB\u001b[0m \u001b[31m21.5 MB/s\u001b[0m eta \u001b[36m0:00:00\u001b[0m\n",
            "\u001b[?25hRequirement already satisfied: packaging>=17.0 in /usr/local/lib/python3.10/dist-packages (from nibabel==4.0.2->-r requirements.txt (line 2)) (23.1)\n",
            "Requirement already satisfied: setuptools in /usr/local/lib/python3.10/dist-packages (from nibabel==4.0.2->-r requirements.txt (line 2)) (67.7.2)\n",
            "Requirement already satisfied: joblib>=1.0.0 in /usr/local/lib/python3.10/dist-packages (from nilearn==0.10.1->-r requirements.txt (line 3)) (1.3.1)\n",
            "Requirement already satisfied: lxml in /usr/local/lib/python3.10/dist-packages (from nilearn==0.10.1->-r requirements.txt (line 3)) (4.9.3)\n",
            "Requirement already satisfied: pandas>=1.1.5 in /usr/local/lib/python3.10/dist-packages (from nilearn==0.10.1->-r requirements.txt (line 3)) (1.5.3)\n",
            "Requirement already satisfied: requests>=2.25.0 in /usr/local/lib/python3.10/dist-packages (from nilearn==0.10.1->-r requirements.txt (line 3)) (2.27.1)\n",
            "Requirement already satisfied: scikit-learn>=1.0.0 in /usr/local/lib/python3.10/dist-packages (from nilearn==0.10.1->-r requirements.txt (line 3)) (1.2.2)\n",
            "Collecting SimpleITK>=0.9.1 (from pyradiomics==3.0.1->-r requirements.txt (line 5))\n",
            "  Downloading SimpleITK-2.2.1-cp310-cp310-manylinux_2_17_x86_64.manylinux2014_x86_64.whl (52.7 MB)\n",
            "\u001b[2K     \u001b[90m━━━━━━━━━━━━━━━━━━━━━━━━━━━━━━━━━━━━━━━━\u001b[0m \u001b[32m52.7/52.7 MB\u001b[0m \u001b[31m10.9 MB/s\u001b[0m eta \u001b[36m0:00:00\u001b[0m\n",
            "\u001b[?25hRequirement already satisfied: PyWavelets>=0.4.0 in /usr/local/lib/python3.10/dist-packages (from pyradiomics==3.0.1->-r requirements.txt (line 5)) (1.4.1)\n",
            "Collecting pykwalify>=1.6.0 (from pyradiomics==3.0.1->-r requirements.txt (line 5))\n",
            "  Downloading pykwalify-1.8.0-py2.py3-none-any.whl (24 kB)\n",
            "Requirement already satisfied: six>=1.10.0 in /usr/local/lib/python3.10/dist-packages (from pyradiomics==3.0.1->-r requirements.txt (line 5)) (1.16.0)\n",
            "Requirement already satisfied: python-dateutil>=2.8.1 in /usr/local/lib/python3.10/dist-packages (from pandas>=1.1.5->nilearn==0.10.1->-r requirements.txt (line 3)) (2.8.2)\n",
            "Requirement already satisfied: pytz>=2020.1 in /usr/local/lib/python3.10/dist-packages (from pandas>=1.1.5->nilearn==0.10.1->-r requirements.txt (line 3)) (2022.7.1)\n",
            "Collecting docopt>=0.6.2 (from pykwalify>=1.6.0->pyradiomics==3.0.1->-r requirements.txt (line 5))\n",
            "  Downloading docopt-0.6.2.tar.gz (25 kB)\n",
            "  Preparing metadata (setup.py) ... \u001b[?25l\u001b[?25hdone\n",
            "Collecting ruamel.yaml>=0.16.0 (from pykwalify>=1.6.0->pyradiomics==3.0.1->-r requirements.txt (line 5))\n",
            "  Downloading ruamel.yaml-0.17.32-py3-none-any.whl (112 kB)\n",
            "\u001b[2K     \u001b[90m━━━━━━━━━━━━━━━━━━━━━━━━━━━━━━━━━━━━━━\u001b[0m \u001b[32m112.2/112.2 kB\u001b[0m \u001b[31m13.1 MB/s\u001b[0m eta \u001b[36m0:00:00\u001b[0m\n",
            "\u001b[?25hRequirement already satisfied: urllib3<1.27,>=1.21.1 in /usr/local/lib/python3.10/dist-packages (from requests>=2.25.0->nilearn==0.10.1->-r requirements.txt (line 3)) (1.26.16)\n",
            "Requirement already satisfied: certifi>=2017.4.17 in /usr/local/lib/python3.10/dist-packages (from requests>=2.25.0->nilearn==0.10.1->-r requirements.txt (line 3)) (2023.7.22)\n",
            "Requirement already satisfied: charset-normalizer~=2.0.0 in /usr/local/lib/python3.10/dist-packages (from requests>=2.25.0->nilearn==0.10.1->-r requirements.txt (line 3)) (2.0.12)\n",
            "Requirement already satisfied: idna<4,>=2.5 in /usr/local/lib/python3.10/dist-packages (from requests>=2.25.0->nilearn==0.10.1->-r requirements.txt (line 3)) (3.4)\n",
            "Requirement already satisfied: threadpoolctl>=2.0.0 in /usr/local/lib/python3.10/dist-packages (from scikit-learn>=1.0.0->nilearn==0.10.1->-r requirements.txt (line 3)) (3.2.0)\n",
            "Collecting ruamel.yaml.clib>=0.2.7 (from ruamel.yaml>=0.16.0->pykwalify>=1.6.0->pyradiomics==3.0.1->-r requirements.txt (line 5))\n",
            "  Downloading ruamel.yaml.clib-0.2.7-cp310-cp310-manylinux_2_17_x86_64.manylinux2014_x86_64.manylinux_2_24_x86_64.whl (485 kB)\n",
            "\u001b[2K     \u001b[90m━━━━━━━━━━━━━━━━━━━━━━━━━━━━━━━━━━━━━━\u001b[0m \u001b[32m485.6/485.6 kB\u001b[0m \u001b[31m39.5 MB/s\u001b[0m eta \u001b[36m0:00:00\u001b[0m\n",
            "\u001b[?25hBuilding wheels for collected packages: pyradiomics, docopt\n",
            "  Building wheel for pyradiomics (setup.py) ... \u001b[?25l\u001b[?25hdone\n",
            "  Created wheel for pyradiomics: filename=pyradiomics-3.0.1-cp310-cp310-linux_x86_64.whl size=169712 sha256=a82979d2d8e565d1ec9746a292e9339baa15c4b992337981c581baa1b3eec9ef\n",
            "  Stored in directory: /root/.cache/pip/wheels/91/c5/13/c5fd4c5ad3edf4062bb3855bd66fad25871c9c6dc0b3fda544\n",
            "  Building wheel for docopt (setup.py) ... \u001b[?25l\u001b[?25hdone\n",
            "  Created wheel for docopt: filename=docopt-0.6.2-py2.py3-none-any.whl size=13705 sha256=920adb67ee8e43e0706e63d1b47f2ef4b75361b7a447c7a62b34a27ebd924a24\n",
            "  Stored in directory: /root/.cache/pip/wheels/fc/ab/d4/5da2067ac95b36618c629a5f93f809425700506f72c9732fac\n",
            "Successfully built pyradiomics docopt\n",
            "Installing collected packages: SimpleITK, docopt, ruamel.yaml.clib, python-gdcm, pydicom, ruamel.yaml, dicom2nifti, pykwalify, nilearn, pyradiomics\n",
            "Successfully installed SimpleITK-2.2.1 dicom2nifti-2.4.8 docopt-0.6.2 nilearn-0.10.1 pydicom-2.4.2 pykwalify-1.8.0 pyradiomics-3.0.1 python-gdcm-3.0.22 ruamel.yaml-0.17.32 ruamel.yaml.clib-0.2.7\n"
          ]
        }
      ]
    },
    {
      "cell_type": "markdown",
      "source": [
        "# Libraries imports"
      ],
      "metadata": {
        "id": "mMO0AwzhKgAj"
      }
    },
    {
      "cell_type": "code",
      "execution_count": null,
      "metadata": {
        "id": "1UIZ4MZX1E70"
      },
      "outputs": [],
      "source": [
        "from digital_phantom_package.intensity_based_stat import IntensityBasedStat\n",
        "\n",
        "import numpy as np\n",
        "import matplotlib.pyplot as plt\n",
        "\n",
        "import dicom2nifti\n",
        "import nibabel as nib\n",
        "import nilearn as nil\n",
        "import scipy.ndimage as ndi\n",
        "import os\n",
        "\n",
        "import requests, zipfile, io"
      ]
    },
    {
      "cell_type": "markdown",
      "source": [
        "# **Loading data from Github repo**"
      ],
      "metadata": {
        "id": "bnukwOaZU1mu"
      }
    },
    {
      "cell_type": "code",
      "source": [
        "%cd /content/"
      ],
      "metadata": {
        "colab": {
          "base_uri": "https://localhost:8080/"
        },
        "id": "czJNt6GoAxjc",
        "outputId": "560752f6-2eaf-49f1-b941-9e408f05be15"
      },
      "execution_count": null,
      "outputs": [
        {
          "output_type": "stream",
          "name": "stdout",
          "text": [
            "/content\n"
          ]
        }
      ]
    },
    {
      "cell_type": "code",
      "execution_count": null,
      "metadata": {
        "id": "vYoKtdDh08VP"
      },
      "outputs": [],
      "source": [
        "req = requests.get(\"https://github.com/theibsi/data_sets/archive/refs/heads/master.zip\")\n",
        "z = zipfile.ZipFile(io.BytesIO(req.content))\n",
        "z.extractall()"
      ]
    },
    {
      "cell_type": "markdown",
      "source": [
        "## Loading image phantom"
      ],
      "metadata": {
        "id": "4CmgKajFYMDB"
      }
    },
    {
      "cell_type": "code",
      "execution_count": null,
      "metadata": {
        "colab": {
          "base_uri": "https://localhost:8080/"
        },
        "id": "MURRAot21iZp",
        "outputId": "c8dd4127-69eb-4c70-9789-1de94c8ae74d"
      },
      "outputs": [
        {
          "output_type": "execute_result",
          "data": {
            "text/plain": [
              "nibabel.nifti1.Nifti1Image"
            ]
          },
          "metadata": {},
          "execution_count": 7
        }
      ],
      "source": [
        "image_nifti = nib.load('/content/data_sets-master/ibsi_1_digital_phantom/nifti/image/phantom.nii.gz')\n",
        "type(image_nifti)"
      ]
    },
    {
      "cell_type": "code",
      "source": [
        "print(image_nifti.header)"
      ],
      "metadata": {
        "colab": {
          "base_uri": "https://localhost:8080/"
        },
        "id": "OyVcQtgOYp_t",
        "outputId": "f1aa2cf9-e5f8-40df-8138-8279da8a4984"
      },
      "execution_count": null,
      "outputs": [
        {
          "output_type": "stream",
          "name": "stdout",
          "text": [
            "<class 'nibabel.nifti1.Nifti1Header'> object, endian='<'\n",
            "sizeof_hdr      : 348\n",
            "data_type       : b''\n",
            "db_name         : b''\n",
            "extents         : 0\n",
            "session_error   : 0\n",
            "regular         : b'r'\n",
            "dim_info        : 0\n",
            "dim             : [3 5 4 4 1 1 1 1]\n",
            "intent_p1       : 0.0\n",
            "intent_p2       : 0.0\n",
            "intent_p3       : 0.0\n",
            "intent_code     : none\n",
            "datatype        : int16\n",
            "bitpix          : 16\n",
            "slice_start     : 0\n",
            "pixdim          : [1. 2. 2. 2. 0. 0. 0. 0.]\n",
            "vox_offset      : 0.0\n",
            "scl_slope       : nan\n",
            "scl_inter       : nan\n",
            "slice_end       : 0\n",
            "slice_code      : unknown\n",
            "xyzt_units      : 2\n",
            "cal_max         : 0.0\n",
            "cal_min         : 0.0\n",
            "slice_duration  : 0.0\n",
            "toffset         : 0.0\n",
            "glmax           : 0\n",
            "glmin           : 0\n",
            "descrip         : b''\n",
            "aux_file        : b''\n",
            "qform_code      : aligned\n",
            "sform_code      : scanner\n",
            "quatern_b       : 0.0\n",
            "quatern_c       : 0.0\n",
            "quatern_d       : 1.0\n",
            "qoffset_x       : -0.0\n",
            "qoffset_y       : -0.0\n",
            "qoffset_z       : 0.0\n",
            "srow_x          : [-2.  0.  0. -0.]\n",
            "srow_y          : [ 0. -2.  0. -0.]\n",
            "srow_z          : [0. 0. 2. 0.]\n",
            "intent_name     : b''\n",
            "magic           : b'n+1'\n"
          ]
        }
      ]
    },
    {
      "cell_type": "code",
      "source": [
        "image_data = image_nifti.get_fdata()\n",
        "image_data.shape"
      ],
      "metadata": {
        "colab": {
          "base_uri": "https://localhost:8080/"
        },
        "id": "2qVUsB1BWZr4",
        "outputId": "3bbf8b65-669b-4dfb-a7ea-d098b759b9b3"
      },
      "execution_count": null,
      "outputs": [
        {
          "output_type": "execute_result",
          "data": {
            "text/plain": [
              "(5, 4, 4)"
            ]
          },
          "metadata": {},
          "execution_count": 9
        }
      ]
    },
    {
      "cell_type": "code",
      "execution_count": null,
      "metadata": {
        "colab": {
          "base_uri": "https://localhost:8080/",
          "height": 430
        },
        "id": "vgFeH8nr1vBx",
        "outputId": "de2759c0-5fa6-4129-dc4a-fa9358a28dd8"
      },
      "outputs": [
        {
          "output_type": "display_data",
          "data": {
            "text/plain": [
              "<Figure size 640x480 with 1 Axes>"
            ],
            "image/png": "[encoded data removed]"
          },
          "metadata": {}
        }
      ],
      "source": [
        "test = image_data[:,:,3]\n",
        "plt.imshow(test)\n",
        "plt.show()"
      ]
    },
    {
      "cell_type": "markdown",
      "source": [
        "# Exploring several plotting libraries"
      ],
      "metadata": {
        "id": "wMt44KDNW-QW"
      }
    },
    {
      "cell_type": "code",
      "execution_count": null,
      "metadata": {
        "colab": {
          "base_uri": "https://localhost:8080/",
          "height": 297
        },
        "id": "16xyhQlc7hR-",
        "outputId": "498ff22a-fc18-4789-fcaa-5ed3cf231f52"
      },
      "outputs": [
        {
          "output_type": "display_data",
          "data": {
            "text/plain": [
              "<Figure size 660x260 with 4 Axes>"
            ],
            "image/png": "[encoded data removed]"
          },
          "metadata": {}
        }
      ],
      "source": [
        "from nilearn import plotting\n",
        "\n",
        "plotting.plot_img(image_nifti)\n",
        "plt.show()"
      ]
    },
    {
      "cell_type": "code",
      "execution_count": null,
      "metadata": {
        "colab": {
          "base_uri": "https://localhost:8080/",
          "height": 422
        },
        "id": "bEhK10nT7lfB",
        "outputId": "ad2b0bc3-a0cc-4684-ea12-1be8502b1441"
      },
      "outputs": [
        {
          "output_type": "display_data",
          "data": {
            "text/plain": [
              "<Figure size 1000x500 with 4 Axes>"
            ],
            "image/png": "[encoded data removed]"
          },
          "metadata": {}
        }
      ],
      "source": [
        "from nilearn import plotting\n",
        "\n",
        "fig, ax = plt.subplots(figsize=[10, 5])\n",
        "plotting.plot_img(image_nifti, cmap='gray', axes=ax)\n",
        "plt.show()"
      ]
    },
    {
      "cell_type": "code",
      "execution_count": null,
      "metadata": {
        "colab": {
          "base_uri": "https://localhost:8080/",
          "height": 636
        },
        "id": "ClNSDS8D7n1Y",
        "outputId": "1606ade9-a504-47ce-c7d5-b7596dbb9db0"
      },
      "outputs": [
        {
          "output_type": "display_data",
          "data": {
            "text/plain": [
              "<Figure size 600x600 with 4 Axes>"
            ],
            "image/png": "[encoded data removed]"
          },
          "metadata": {}
        }
      ],
      "source": [
        "plotting.plot_img(image_nifti, display_mode='tiled', cmap='gray')\n",
        "plt.show()"
      ]
    },
    {
      "cell_type": "code",
      "execution_count": null,
      "metadata": {
        "colab": {
          "base_uri": "https://localhost:8080/",
          "height": 297
        },
        "id": "NggY2P2E7prG",
        "outputId": "49912111-b141-478c-8ba9-4a6118fcbcda"
      },
      "outputs": [
        {
          "output_type": "display_data",
          "data": {
            "text/plain": [
              "<Figure size 660x260 with 4 Axes>"
            ],
            "image/png": "[encoded data removed]"
          },
          "metadata": {}
        }
      ],
      "source": [
        "plotting.plot_img(image_nifti, cmap='gray', cut_coords=(-45, 40, 0))\n",
        "plt.show()"
      ]
    },
    {
      "cell_type": "code",
      "execution_count": null,
      "metadata": {
        "colab": {
          "base_uri": "https://localhost:8080/",
          "height": 322
        },
        "id": "3A0Y0vgh7r39",
        "outputId": "0ac22705-1d80-4ab3-99c8-3e9bc2b8f62a"
      },
      "outputs": [
        {
          "output_type": "stream",
          "name": "stderr",
          "text": [
            "/usr/local/lib/python3.10/dist-packages/nilearn/plotting/find_cuts.py:299: UserWarning: Too many cuts requested for the data: n_cuts=7, data size=4\n",
            "  warnings.warn('Too many cuts requested for the data: '\n"
          ]
        },
        {
          "output_type": "display_data",
          "data": {
            "text/plain": [
              "<Figure size 880x230 with 5 Axes>"
            ],
            "image/png": "[encoded data removed]"
          },
          "metadata": {}
        }
      ],
      "source": [
        "plotting.plot_img(image_nifti, display_mode='z', cmap='gray')\n",
        "plt.show()"
      ]
    },
    {
      "cell_type": "code",
      "execution_count": null,
      "metadata": {
        "colab": {
          "base_uri": "https://localhost:8080/",
          "height": 297
        },
        "id": "FAAsfyKW8Wk6",
        "outputId": "b322d95f-7e32-4eec-be86-e22864a40f20"
      },
      "outputs": [
        {
          "output_type": "display_data",
          "data": {
            "text/plain": [
              "<Figure size 660x260 with 4 Axes>"
            ],
            "image/png": "[encoded data removed]"
          },
          "metadata": {}
        }
      ],
      "source": [
        "from nilearn import image\n",
        "\n",
        "fwhm = 4\n",
        "\n",
        "image_nifti_smth = image.smooth_img(image_nifti, fwhm)\n",
        "plotting.plot_img(image_nifti_smth, cmap='gray', cut_coords=(-45, 40, 0))\n",
        "plt.show()"
      ]
    },
    {
      "cell_type": "code",
      "source": [
        "fig_rows = 2\n",
        "fig_cols = 2\n",
        "n_subplots = fig_rows * fig_cols\n",
        "n_slice = image_data.shape[2]\n",
        "step_size = n_slice // n_subplots\n",
        "plot_range = n_subplots * step_size\n",
        "start_stop = int((n_slice - plot_range) / 2)"
      ],
      "metadata": {
        "id": "VhJuFd_DaCDH"
      },
      "execution_count": null,
      "outputs": []
    },
    {
      "cell_type": "code",
      "source": [
        "fig, axs = plt.subplots(fig_rows, fig_cols, figsize=[10, 10])\n",
        "\n",
        "for idx, img in enumerate(range(start_stop, plot_range, step_size)):\n",
        "    axs.flat[idx].imshow(ndi.rotate(image_data[:, :, img], 90), cmap='gray')\n",
        "    axs.flat[idx].axis('off')\n",
        "\n",
        "plt.tight_layout()\n",
        "plt.show()"
      ],
      "metadata": {
        "id": "0ggtFlgFaGiU",
        "colab": {
          "base_uri": "https://localhost:8080/",
          "height": 877
        },
        "outputId": "1dd2a6ee-5b35-4f4f-f419-c1783ec448db"
      },
      "execution_count": null,
      "outputs": [
        {
          "output_type": "display_data",
          "data": {
            "text/plain": [
              "<Figure size 1000x1000 with 4 Axes>"
            ],
            "image/png": "[encoded data removed]"
          },
          "metadata": {}
        }
      ]
    },
    {
      "cell_type": "markdown",
      "source": [
        "## Slice through a different axis"
      ],
      "metadata": {
        "id": "s9pJK7cpdEIE"
      }
    },
    {
      "cell_type": "code",
      "source": [
        "n_slice = image_data.shape[1]\n",
        "step_size = n_slice // n_subplots\n",
        "plot_range = n_subplots * step_size\n",
        "start_stop = int((n_slice - plot_range) / 2)"
      ],
      "metadata": {
        "id": "zMvrovCjdIsy"
      },
      "execution_count": null,
      "outputs": []
    },
    {
      "cell_type": "code",
      "source": [
        "fig, axs = plt.subplots(fig_rows, fig_cols, figsize=[10, 5])\n",
        "\n",
        "for idx, img in enumerate(range(start_stop, plot_range, step_size)):\n",
        "    axs.flat[idx].imshow(ndi.rotate(image_data[:, img, :], 90), cmap='gray')\n",
        "    axs.flat[idx].axis('off')\n",
        "\n",
        "plt.tight_layout()\n",
        "plt.show()"
      ],
      "metadata": {
        "id": "RVwdvXrWdNPs",
        "colab": {
          "base_uri": "https://localhost:8080/",
          "height": 506
        },
        "outputId": "62159ab3-7119-47a8-b447-93e69c914de9"
      },
      "execution_count": null,
      "outputs": [
        {
          "output_type": "display_data",
          "data": {
            "text/plain": [
              "<Figure size 1000x500 with 4 Axes>"
            ],
            "image/png": "[encoded data removed]"
          },
          "metadata": {}
        }
      ]
    },
    {
      "cell_type": "code",
      "source": [
        "n_slice = image_data.shape[0]\n",
        "step_size = n_slice // n_subplots\n",
        "plot_range = n_subplots * step_size\n",
        "start_stop = int((n_slice - plot_range) / 2)"
      ],
      "metadata": {
        "id": "C4-wmYHvdSZX"
      },
      "execution_count": null,
      "outputs": []
    },
    {
      "cell_type": "code",
      "source": [
        "fig, axs = plt.subplots(fig_rows, fig_cols, figsize=[10, 5])\n",
        "\n",
        "for idx, img in enumerate(range(start_stop, plot_range, step_size)):\n",
        "    axs.flat[idx].imshow(ndi.rotate(image_data[img, :, :], 90), cmap='gray')\n",
        "    axs.flat[idx].axis('off')\n",
        "\n",
        "plt.tight_layout()\n",
        "plt.show()"
      ],
      "metadata": {
        "id": "GIp0E-qUdUPT",
        "colab": {
          "base_uri": "https://localhost:8080/",
          "height": 506
        },
        "outputId": "2f109ea8-47f4-4e42-f9a7-90f196bbd7d4"
      },
      "execution_count": null,
      "outputs": [
        {
          "output_type": "display_data",
          "data": {
            "text/plain": [
              "<Figure size 1000x500 with 4 Axes>"
            ],
            "image/png": "[encoded data removed]"
          },
          "metadata": {}
        }
      ]
    },
    {
      "cell_type": "markdown",
      "source": [
        "## **Gaussian smoothing - To reduce noise**"
      ],
      "metadata": {
        "id": "9ytlvO9gXfXW"
      }
    },
    {
      "cell_type": "code",
      "source": [
        "sigma = 2\n",
        "smoothed = ndi.gaussian_filter(image_data, sigma)"
      ],
      "metadata": {
        "id": "wuUjdazLXl_2"
      },
      "execution_count": null,
      "outputs": []
    },
    {
      "cell_type": "code",
      "source": [
        "fig, axs = plt.subplots(fig_rows, fig_cols, figsize=[10, 10])\n",
        "\n",
        "for idx, img in enumerate(range(start_stop, plot_range, step_size)):\n",
        "    axs.flat[idx].imshow(smoothed[:, :, img], cmap='gray')\n",
        "    axs.flat[idx].axis('off')\n",
        "\n",
        "plt.tight_layout()\n",
        "plt.show()"
      ],
      "metadata": {
        "colab": {
          "base_uri": "https://localhost:8080/",
          "height": 1000
        },
        "id": "604t4M7ZXzwl",
        "outputId": "6f4d7f42-cf02-4b7a-9a98-356cc0db1ca0"
      },
      "execution_count": null,
      "outputs": [
        {
          "output_type": "display_data",
          "data": {
            "text/plain": [
              "<Figure size 1000x1000 with 4 Axes>"
            ],
            "image/png": "[encoded data removed]"
          },
          "metadata": {}
        }
      ]
    },
    {
      "cell_type": "markdown",
      "source": [
        "# Image histogram"
      ],
      "metadata": {
        "id": "r51LCqTAdq0I"
      }
    },
    {
      "cell_type": "markdown",
      "source": [
        "Histograms of the anatomical images show the number of voxels of a given intensity value. These can be informative because the distribution of intensity values in an anatomical image is not uniform."
      ],
      "metadata": {
        "id": "jUmOlkeJd3YP"
      }
    },
    {
      "cell_type": "code",
      "source": [
        "plt.plot(ndi.histogram(image_data, min=0, max=np.max(image_data), bins=50))\n",
        "plt.show()"
      ],
      "metadata": {
        "id": "85MIfoUxdiQK",
        "colab": {
          "base_uri": "https://localhost:8080/",
          "height": 430
        },
        "outputId": "effae0d8-a4cf-4500-c4e8-dbaacfc1bbba"
      },
      "execution_count": null,
      "outputs": [
        {
          "output_type": "display_data",
          "data": {
            "text/plain": [
              "<Figure size 640x480 with 1 Axes>"
            ],
            "image/png": "[encoded data removed]"
          },
          "metadata": {}
        }
      ]
    },
    {
      "cell_type": "markdown",
      "source": [
        "## Loading Mask"
      ],
      "metadata": {
        "id": "5TNrWL5PYIBw"
      }
    },
    {
      "cell_type": "code",
      "execution_count": null,
      "metadata": {
        "colab": {
          "base_uri": "https://localhost:8080/"
        },
        "id": "Cdld8CS92_58",
        "outputId": "be14d866-bf22-4b1f-c501-6e252258cae4"
      },
      "outputs": [
        {
          "output_type": "execute_result",
          "data": {
            "text/plain": [
              "nibabel.nifti1.Nifti1Image"
            ]
          },
          "metadata": {},
          "execution_count": 29
        }
      ],
      "source": [
        "mask_nifti = nib.load('/content/data_sets-master/ibsi_1_digital_phantom/nifti/mask/mask.nii.gz')\n",
        "type(mask_nifti)"
      ]
    },
    {
      "cell_type": "code",
      "source": [
        "mask_data = mask_nifti.get_fdata()\n",
        "mask_data.shape"
      ],
      "metadata": {
        "colab": {
          "base_uri": "https://localhost:8080/"
        },
        "id": "1V-Up06PYSOW",
        "outputId": "19486eb6-b5f1-42ea-a85e-c73a8958ef5c"
      },
      "execution_count": null,
      "outputs": [
        {
          "output_type": "execute_result",
          "data": {
            "text/plain": [
              "(5, 4, 4)"
            ]
          },
          "metadata": {},
          "execution_count": 30
        }
      ]
    },
    {
      "cell_type": "code",
      "source": [
        "n_slice = mask_data.shape[2]\n",
        "step_size = n_slice // n_subplots\n",
        "plot_range = n_subplots * step_size\n",
        "start_stop = int((n_slice - plot_range) / 2)"
      ],
      "metadata": {
        "id": "iBTsVDq5cSUZ"
      },
      "execution_count": null,
      "outputs": []
    },
    {
      "cell_type": "code",
      "source": [
        "mask_data[:, :, 3]"
      ],
      "metadata": {
        "colab": {
          "base_uri": "https://localhost:8080/"
        },
        "id": "3d8WVw5FfzNi",
        "outputId": "d1bfec75-adc0-4181-e77a-89111a33ddf0"
      },
      "execution_count": null,
      "outputs": [
        {
          "output_type": "execute_result",
          "data": {
            "text/plain": [
              "array([[1., 1., 1., 1.],\n",
              "       [1., 1., 1., 1.],\n",
              "       [1., 1., 1., 1.],\n",
              "       [0., 1., 1., 1.],\n",
              "       [0., 1., 1., 1.]])"
            ]
          },
          "metadata": {},
          "execution_count": 32
        }
      ]
    },
    {
      "cell_type": "code",
      "source": [
        "fig, axs = plt.subplots(fig_rows, fig_cols, figsize=[10, 10])\n",
        "\n",
        "for idx, img in enumerate(range(start_stop, plot_range, step_size)):\n",
        "    axs.flat[idx].imshow(ndi.rotate(mask_data[:, :, img], 90), cmap='gray')\n",
        "    axs.flat[idx].axis('off')\n",
        "\n",
        "plt.tight_layout()\n",
        "plt.show()"
      ],
      "metadata": {
        "id": "o_xdz2VRcbVe",
        "colab": {
          "base_uri": "https://localhost:8080/",
          "height": 877
        },
        "outputId": "ff5c572e-5a0b-49f4-d732-d1f92c537468"
      },
      "execution_count": null,
      "outputs": [
        {
          "output_type": "display_data",
          "data": {
            "text/plain": [
              "<Figure size 1000x1000 with 4 Axes>"
            ],
            "image/png": "[encoded data removed]"
          },
          "metadata": {}
        }
      ]
    },
    {
      "cell_type": "markdown",
      "source": [
        "# Computing the based-intensity statistical features"
      ],
      "metadata": {
        "id": "3B3Qre8nblAX"
      }
    },
    {
      "cell_type": "code",
      "source": [
        "n_slice = image_data.shape[2]\n",
        "step_size = n_slice // n_subplots\n",
        "start_stop = int((n_slice - plot_range) / 2)"
      ],
      "metadata": {
        "id": "K9SNVMFfLyaS"
      },
      "execution_count": null,
      "outputs": []
    },
    {
      "cell_type": "code",
      "source": [
        "np.sum(mask_data[:,:,1])"
      ],
      "metadata": {
        "colab": {
          "base_uri": "https://localhost:8080/"
        },
        "id": "6rsB8i-wM0ci",
        "outputId": "be24e193-f01e-4a5c-b53b-216eaa6b7bf0"
      },
      "execution_count": null,
      "outputs": [
        {
          "output_type": "execute_result",
          "data": {
            "text/plain": [
              "19.0"
            ]
          },
          "metadata": {},
          "execution_count": 35
        }
      ]
    },
    {
      "cell_type": "code",
      "source": [
        "import SimpleITK as sitk\n",
        "\n",
        "img_dict = {}\n",
        "\n",
        "for index, img in enumerate(range(start_stop, plot_range, step_size)):\n",
        "    # Convert NumPy arrays to SimpleITK images\n",
        "    image = sitk.GetImageFromArray(image_data[:,:,img])\n",
        "    mask = sitk.GetImageFromArray(mask_data[:,:,img])\n",
        "\n",
        "    # Check if there are valid voxels in the mask\n",
        "    if np.sum(mask) == 0:\n",
        "        pass\n",
        "    else:\n",
        "        # Create an instance of the IntensityBasedStat class\n",
        "        intensity_stat = IntensityBasedStat(image, mask)\n",
        "        # Calculate the statistical features\n",
        "        mean_intensity = intensity_stat.getMeanIntensity()\n",
        "        variance_intensity = intensity_stat.getVarianceIntensity()\n",
        "        skewness_intensity = intensity_stat.getIntensitySkewness()\n",
        "        kurtosis_intensity = intensity_stat.getIntensityKurtosis()\n",
        "        median_intensity = intensity_stat.getMedianIntensity()\n",
        "        minimum_intensity = intensity_stat.getMinimumIntensity()\n",
        "        percentile10_intensity = intensity_stat.get10IntensityPercentile()\n",
        "        percentile90_intensity = intensity_stat.get90IntensityPercentile()\n",
        "        maximum_intensity = intensity_stat.getMaximumIntensity()\n",
        "        interquartile_range_intensity = intensity_stat.getIntensityInterquartileRange()\n",
        "        intensity_range = intensity_stat.getIntensityRange()\n",
        "        mean_absolute_deviation = intensity_stat.getIntensityMeanAbsoluteDeviation()\n",
        "        robust_mean_absolute_deviation = intensity_stat.getIntensityRobustMeanAbsoluteDeviation()\n",
        "        median_absolute_deviation = intensity_stat.getIntensityMedianAbsoluteDeviation()\n",
        "        coefficient_of_variation = intensity_stat.getIntensityCoefficientOfVariation()\n",
        "        quartile_coefficient_of_dispersion = intensity_stat.getIntensityQuartileCoefficientOfDispersion()\n",
        "        intensity_energy = intensity_stat.getIntensityEnergy()\n",
        "        root_mean_square_intensity = intensity_stat.getRootMeanSquareIntensity()\n",
        "        standard_deviation_intensity = intensity_stat.getStandardDeviationIntensity()\n",
        "\n",
        "        # Define the statistical features dictionary\n",
        "        features = {\n",
        "            \"Mean Intensity\": mean_intensity,\n",
        "            \"Variance Intensity\": variance_intensity,\n",
        "            \"Skewness Intensity\": skewness_intensity,\n",
        "            \"Kurtosis Intensity\": kurtosis_intensity,\n",
        "            \"Median Intensity\": median_intensity,\n",
        "            \"Minimum Intensity\": minimum_intensity,\n",
        "            \"10th Percentile Intensity\": percentile10_intensity,\n",
        "            \"90th Percentile Intensity\": percentile90_intensity,\n",
        "            \"Maximum Intensity\": maximum_intensity,\n",
        "            \"Interquartile Range Intensity\": interquartile_range_intensity,\n",
        "            \"Intensity Range\": intensity_range,\n",
        "            \"Mean Absolute Deviation\": mean_absolute_deviation,\n",
        "            \"Intensity Robust Mean Absolute Deviation\": robust_mean_absolute_deviation,\n",
        "            \"Intensity Median Absolute Deviation\": median_absolute_deviation,\n",
        "            \"Intensity Coefficient Of Variation\": coefficient_of_variation,\n",
        "            \"Intensity Quartile Coefficient Of Dispersion\": quartile_coefficient_of_dispersion,\n",
        "            \"Intensity Energy\": intensity_energy,\n",
        "            \"Root Mean Square Intensity\": root_mean_square_intensity,\n",
        "            \"Standard Deviation Intensity\": standard_deviation_intensity\n",
        "        }\n",
        "\n",
        "        img_dict['image '+str(index)] = features\n"
      ],
      "metadata": {
        "id": "cUGr1NXVbpnE"
      },
      "execution_count": null,
      "outputs": []
    },
    {
      "cell_type": "code",
      "source": [
        "img_dict"
      ],
      "metadata": {
        "colab": {
          "base_uri": "https://localhost:8080/"
        },
        "id": "Sp8sg1BzMqHr",
        "outputId": "84292047-1ae6-44c9-cc14-4f4ae1d2f547"
      },
      "execution_count": null,
      "outputs": [
        {
          "output_type": "execute_result",
          "data": {
            "text/plain": [
              "{'image 0': {'Mean Intensity': array([2.95]),\n",
              "  'Variance Intensity': array([3.5475]),\n",
              "  'Skewness Intensity': array([0.20687261]),\n",
              "  'Kurtosis Intensity': array([1.58709719]),\n",
              "  'Median Intensity': array([4.]),\n",
              "  'Minimum Intensity': array([1.]),\n",
              "  '10th Percentile Intensity': array([1.]),\n",
              "  '90th Percentile Intensity': array([6.]),\n",
              "  'Maximum Intensity': array([6.]),\n",
              "  'Interquartile Range Intensity': array([3.]),\n",
              "  'Intensity Range': array([5.]),\n",
              "  'Mean Absolute Deviation': array([1.755]),\n",
              "  'Intensity Robust Mean Absolute Deviation': array([1.755]),\n",
              "  'Intensity Median Absolute Deviation': array([2.]),\n",
              "  'Intensity Coefficient Of Variation': array([0.63846807]),\n",
              "  'Intensity Quartile Coefficient Of Dispersion': array([0.6]),\n",
              "  'Intensity Energy': array([245.]),\n",
              "  'Root Mean Square Intensity': array([3.5]),\n",
              "  'Standard Deviation Intensity': array([1.88348082])},\n",
              " 'image 1': {'Mean Intensity': array([2.26315789]),\n",
              "  'Variance Intensity': array([3.14127424]),\n",
              "  'Skewness Intensity': array([0.95984652]),\n",
              "  'Kurtosis Intensity': array([2.43876618]),\n",
              "  'Median Intensity': array([1.]),\n",
              "  'Minimum Intensity': array([1.]),\n",
              "  '10th Percentile Intensity': array([1.]),\n",
              "  '90th Percentile Intensity': array([4.4]),\n",
              "  'Maximum Intensity': array([6.]),\n",
              "  'Interquartile Range Intensity': array([3.]),\n",
              "  'Intensity Range': array([5.]),\n",
              "  'Mean Absolute Deviation': array([1.59556787]),\n",
              "  'Intensity Robust Mean Absolute Deviation': array([1.16262976]),\n",
              "  'Intensity Median Absolute Deviation': array([0.]),\n",
              "  'Intensity Coefficient Of Variation': array([0.78313759]),\n",
              "  'Intensity Quartile Coefficient Of Dispersion': array([0.6]),\n",
              "  'Intensity Energy': array([157.]),\n",
              "  'Root Mean Square Intensity': array([2.87457091]),\n",
              "  'Standard Deviation Intensity': array([1.77236403])},\n",
              " 'image 2': {'Mean Intensity': array([1.64705882]),\n",
              "  'Variance Intensity': array([2.11072664]),\n",
              "  'Skewness Intensity': array([2.00917455]),\n",
              "  'Kurtosis Intensity': array([5.58223596]),\n",
              "  'Median Intensity': array([1.]),\n",
              "  'Minimum Intensity': array([1.]),\n",
              "  '10th Percentile Intensity': array([1.]),\n",
              "  '90th Percentile Intensity': array([4.]),\n",
              "  'Maximum Intensity': array([6.]),\n",
              "  'Interquartile Range Intensity': array([0.]),\n",
              "  'Intensity Range': array([5.]),\n",
              "  'Mean Absolute Deviation': array([1.06574394]),\n",
              "  'Intensity Robust Mean Absolute Deviation': array([0.65625]),\n",
              "  'Intensity Median Absolute Deviation': array([0.]),\n",
              "  'Intensity Coefficient Of Variation': array([0.88207779]),\n",
              "  'Intensity Quartile Coefficient Of Dispersion': array([0.]),\n",
              "  'Intensity Energy': array([82.]),\n",
              "  'Root Mean Square Intensity': array([2.19625349]),\n",
              "  'Standard Deviation Intensity': array([1.452834])},\n",
              " 'image 3': {'Mean Intensity': array([1.61111111]),\n",
              "  'Variance Intensity': array([2.0154321]),\n",
              "  'Skewness Intensity': array([2.1044338]),\n",
              "  'Kurtosis Intensity': array([5.9941535]),\n",
              "  'Median Intensity': array([1.]),\n",
              "  'Minimum Intensity': array([1.]),\n",
              "  '10th Percentile Intensity': array([1.]),\n",
              "  '90th Percentile Intensity': array([4.]),\n",
              "  'Maximum Intensity': array([6.]),\n",
              "  'Interquartile Range Intensity': array([0.]),\n",
              "  'Intensity Range': array([5.]),\n",
              "  'Mean Absolute Deviation': array([1.01851852]),\n",
              "  'Intensity Robust Mean Absolute Deviation': array([0.62283737]),\n",
              "  'Intensity Median Absolute Deviation': array([0.]),\n",
              "  'Intensity Coefficient Of Variation': array([0.88116775]),\n",
              "  'Intensity Quartile Coefficient Of Dispersion': array([0.]),\n",
              "  'Intensity Energy': array([83.]),\n",
              "  'Root Mean Square Intensity': array([2.14734979]),\n",
              "  'Standard Deviation Intensity': array([1.41965915])}}"
            ]
          },
          "metadata": {},
          "execution_count": 37
        }
      ]
    },
    {
      "cell_type": "markdown",
      "source": [
        "# **Exporting results to CSV**"
      ],
      "metadata": {
        "id": "oVSLq6dgL7jP"
      }
    },
    {
      "cell_type": "code",
      "source": [
        "import csv\n",
        "\n",
        "# Write to a CSV file\n",
        "output_file = \"intensity_based_statistical_features.csv\"\n",
        "with open(output_file, \"w\", newline=\"\") as csvfile:\n",
        "    csvwriter = csv.writer(csvfile)\n",
        "\n",
        "    # Write the header row\n",
        "    csvwriter.writerow([\"Image\", \"Feature\", \"Value\"])\n",
        "\n",
        "  # Write the data rows\n",
        "    for image, features in img_dict.items():\n",
        "        for feature, value in features.items():\n",
        "            csvwriter.writerow([image, feature, value[0]])\n",
        "\n",
        "print(f\"Features written to {output_file}\")\n"
      ],
      "metadata": {
        "colab": {
          "base_uri": "https://localhost:8080/"
        },
        "id": "n7FYmxf1L6g2",
        "outputId": "9b1157b3-c366-4911-f05c-e8c4dd35dfc8"
      },
      "execution_count": null,
      "outputs": [
        {
          "output_type": "stream",
          "name": "stdout",
          "text": [
            "Features written to intensity_based_statistical_features.csv\n"
          ]
        }
      ]
    },
    {
      "cell_type": "markdown",
      "source": [
        "# **References**"
      ],
      "metadata": {
        "id": "k3qeNbQIff5C"
      }
    },
    {
      "cell_type": "markdown",
      "source": [
        "https://neuraldatascience.io/8-mri/read_viz.html\n",
        "\n",
        "https://pyradiomics.readthedocs.io/en/latest/index.html\n",
        "\n",
        "https://arxiv.org/pdf/1612.07003.pdf\n",
        "\n",
        "https://www.ncbi.nlm.nih.gov/pmc/articles/PMC8947946/\n",
        "\n",
        "https://www.mdpi.com/2218-1989/10/10/416\n",
        "\n",
        "https://www.nature.com/articles/s41598-022-13967-8\n"
      ],
      "metadata": {
        "id": "H_LpEZHbfhna"
      }
    }
  ],
  "metadata": {
    "colab": {
      "provenance": []
    },
    "kernelspec": {
      "display_name": "Python 3",
      "name": "python3"
    },
    "language_info": {
      "name": "python"
    }
  },
  "nbformat": 4,
  "nbformat_minor": 0
}